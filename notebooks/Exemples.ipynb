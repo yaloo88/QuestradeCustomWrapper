{
 "cells": [
  {
   "cell_type": "markdown",
   "metadata": {},
   "source": [
    "# Questrade Custom API Wrapper Examples\n",
    "\n",
    "This notebook demonstrates how to use the Questrade Custom API Wrapper for various common tasks."
   ]
  },
  {
   "cell_type": "code",
   "execution_count": 16,
   "metadata": {},
   "outputs": [
    {
     "name": "stdout",
     "output_type": "stream",
     "text": [
      "Project root: C:\\Users\\Administrator\\Documents\\QuestradeCustomAPIWrapper_20250321_153010\n"
     ]
    }
   ],
   "source": [
    "import sys\n",
    "from pathlib import Path\n",
    "import datetime\n",
    "from datetime import timedelta\n",
    "import pandas as pd\n",
    "import matplotlib.pyplot as plt\n",
    "\n",
    "# Add project root to path\n",
    "project_root = Path('..').resolve()\n",
    "sys.path.append(str(project_root))\n",
    "print(f\"Project root: {project_root}\")"
   ]
  },
  {
   "cell_type": "markdown",
   "metadata": {},
   "source": [
    "## 1. Authentication and Setup\n",
    "\n",
    "First, let's initialize the API wrapper. You can provide a refresh token directly, or let the wrapper use a saved token file."
   ]
  },
  {
   "cell_type": "code",
   "execution_count": 17,
   "metadata": {},
   "outputs": [
    {
     "name": "stdout",
     "output_type": "stream",
     "text": [
      "API initialized successfully!\n"
     ]
    }
   ],
   "source": [
    "from QuestradeAPI.CustomWrapper import QuestradeAPI\n",
    "\n",
    "# Method 1: Use saved token (will prompt for token if none exists)\n",
    "api = QuestradeAPI()\n",
    "\n",
    "# Method 2: Provide refresh token directly\n",
    "# api = QuestradeAPI(refresh_token=\"your_refresh_token_here\")\n",
    "\n",
    "# Method 3: Specify custom token file path\n",
    "# api = QuestradeAPI(token_path=\"/path/to/token.json\")\n",
    "\n",
    "print(\"API initialized successfully!\")"
   ]
  },
  {
   "cell_type": "markdown",
   "metadata": {},
   "source": [
    "## 2. Account Information\n",
    "\n",
    "Let's retrieve basic account information."
   ]
  },
  {
   "cell_type": "code",
   "execution_count": 18,
   "metadata": {},
   "outputs": [
    {
     "name": "stdout",
     "output_type": "stream",
     "text": [
      "Found 4 accounts\n",
      "Using account: 27955569 (Margin)\n"
     ]
    }
   ],
   "source": [
    "# Get all accounts\n",
    "accounts = api.get_accounts()\n",
    "print(f\"Found {len(accounts['accounts'])} accounts\")\n",
    "\n",
    "# Select the first account for further examples\n",
    "if accounts['accounts']:\n",
    "    account = accounts['accounts'][0]\n",
    "    account_id = account['number']\n",
    "    print(f\"Using account: {account_id} ({account['type']})\")    \n",
    "else:\n",
    "    print(\"No accounts found!\")"
   ]
  },
  {
   "cell_type": "code",
   "execution_count": 19,
   "metadata": {},
   "outputs": [
    {
     "name": "stdout",
     "output_type": "stream",
     "text": [
      "Currency: CAD\n",
      "  Cash: $68.39\n",
      "  Market Value: $0.00\n",
      "  Total Equity: $68.39\n",
      "Currency: USD\n",
      "  Cash: $47.74\n",
      "  Market Value: $0.00\n",
      "  Total Equity: $47.74\n"
     ]
    }
   ],
   "source": [
    "# Get account balances\n",
    "balances = api.get_account_balances(account_id)\n",
    "\n",
    "# Display combined balances\n",
    "combined = balances['combinedBalances']\n",
    "for balance in combined:\n",
    "    print(f\"Currency: {balance['currency']}\")\n",
    "    print(f\"  Cash: ${balance['cash']:.2f}\")\n",
    "    print(f\"  Market Value: ${balance['marketValue']:.2f}\")\n",
    "    print(f\"  Total Equity: ${balance['totalEquity']:.2f}\")"
   ]
  },
  {
   "cell_type": "code",
   "execution_count": 20,
   "metadata": {},
   "outputs": [
    {
     "name": "stdout",
     "output_type": "stream",
     "text": [
      "No positions found in this account.\n"
     ]
    }
   ],
   "source": [
    "# Get account positions\n",
    "positions = api.get_account_positions(account_id)\n",
    "\n",
    "# Create a DataFrame for better visualization\n",
    "if positions['positions']:\n",
    "    positions_df = pd.DataFrame(positions['positions'])\n",
    "    \n",
    "    # Select and format key columns\n",
    "    display_cols = ['symbol', 'openQuantity', 'currentPrice', 'currentMarketValue', 'averageEntryPrice']\n",
    "    positions_df = positions_df[display_cols].copy()\n",
    "    \n",
    "    # Calculate profit/loss\n",
    "    positions_df['profit_loss'] = positions_df['currentPrice'] - positions_df['averageEntryPrice']\n",
    "    positions_df['profit_loss_pct'] = (positions_df['profit_loss'] / positions_df['averageEntryPrice']) * 100\n",
    "    \n",
    "    # Format for display\n",
    "    positions_df['profit_loss'] = positions_df['profit_loss'].map('${:.2f}'.format)\n",
    "    positions_df['profit_loss_pct'] = positions_df['profit_loss_pct'].map('{:.2f}%'.format)\n",
    "    \n",
    "    display(positions_df)\n",
    "else:\n",
    "    print(\"No positions found in this account.\")"
   ]
  },
  {
   "cell_type": "markdown",
   "metadata": {},
   "source": [
    "## 3. Account Activities and Executions"
   ]
  },
  {
   "cell_type": "code",
   "execution_count": 21,
   "metadata": {},
   "outputs": [
    {
     "name": "stdout",
     "output_type": "stream",
     "text": [
      "Found 1 activities in the last 30 days\n"
     ]
    },
    {
     "data": {
      "text/html": [
       "<div>\n",
       "<style scoped>\n",
       "    .dataframe tbody tr th:only-of-type {\n",
       "        vertical-align: middle;\n",
       "    }\n",
       "\n",
       "    .dataframe tbody tr th {\n",
       "        vertical-align: top;\n",
       "    }\n",
       "\n",
       "    .dataframe thead th {\n",
       "        text-align: right;\n",
       "    }\n",
       "</style>\n",
       "<table border=\"1\" class=\"dataframe\">\n",
       "  <thead>\n",
       "    <tr style=\"text-align: right;\">\n",
       "      <th></th>\n",
       "      <th>tradeDate</th>\n",
       "      <th>transactionDate</th>\n",
       "      <th>settlementDate</th>\n",
       "      <th>action</th>\n",
       "      <th>symbol</th>\n",
       "      <th>symbolId</th>\n",
       "      <th>description</th>\n",
       "      <th>currency</th>\n",
       "      <th>quantity</th>\n",
       "      <th>price</th>\n",
       "      <th>grossAmount</th>\n",
       "      <th>commission</th>\n",
       "      <th>netAmount</th>\n",
       "      <th>type</th>\n",
       "    </tr>\n",
       "  </thead>\n",
       "  <tbody>\n",
       "    <tr>\n",
       "      <th>0</th>\n",
       "      <td>2025-03-17T00:00:00.000000-04:00</td>\n",
       "      <td>2025-03-17T00:00:00.000000-04:00</td>\n",
       "      <td>2025-03-17T00:00:00.000000-04:00</td>\n",
       "      <td></td>\n",
       "      <td></td>\n",
       "      <td>0</td>\n",
       "      <td>INT FR 02/16 THRU03/15@12    % BAL      743   ...</td>\n",
       "      <td>USD</td>\n",
       "      <td>0</td>\n",
       "      <td>0</td>\n",
       "      <td>0</td>\n",
       "      <td>0</td>\n",
       "      <td>-6.84</td>\n",
       "      <td>Interest</td>\n",
       "    </tr>\n",
       "  </tbody>\n",
       "</table>\n",
       "</div>"
      ],
      "text/plain": [
       "                          tradeDate                   transactionDate  \\\n",
       "0  2025-03-17T00:00:00.000000-04:00  2025-03-17T00:00:00.000000-04:00   \n",
       "\n",
       "                     settlementDate action symbol  symbolId  \\\n",
       "0  2025-03-17T00:00:00.000000-04:00                       0   \n",
       "\n",
       "                                         description currency  quantity  \\\n",
       "0  INT FR 02/16 THRU03/15@12    % BAL      743   ...      USD         0   \n",
       "\n",
       "   price  grossAmount  commission  netAmount      type  \n",
       "0      0            0           0      -6.84  Interest  "
      ]
     },
     "metadata": {},
     "output_type": "display_data"
    }
   ],
   "source": [
    "# Get account activities for the last 30 days\n",
    "end_time = datetime.datetime.now().strftime(\"%Y-%m-%dT%H:%M:%S.000000-05:00\")\n",
    "start_time = (datetime.datetime.now() - timedelta(days=30)).strftime(\"%Y-%m-%dT%H:%M:%S.000000-05:00\")\n",
    "\n",
    "activities = api.get_account_activities(account_id, start_time, end_time)\n",
    "\n",
    "if activities['activities']:\n",
    "    activities_df = pd.DataFrame(activities['activities'])\n",
    "    print(f\"Found {len(activities_df)} activities in the last 30 days\")\n",
    "    \n",
    "    # Display the most recent activities\n",
    "    display(activities_df.head())\n",
    "else:\n",
    "    print(\"No activities found in the specified date range.\")"
   ]
  },
  {
   "cell_type": "code",
   "execution_count": 22,
   "metadata": {},
   "outputs": [
    {
     "name": "stdout",
     "output_type": "stream",
     "text": [
      "No recent executions found.\n"
     ]
    }
   ],
   "source": [
    "# Get recent executions\n",
    "executions = api.get_account_executions(account_id)\n",
    "\n",
    "if executions['executions']:\n",
    "    executions_df = pd.DataFrame(executions['executions'])\n",
    "    print(f\"Found {len(executions_df)} recent executions\")\n",
    "    display(executions_df)\n",
    "else:\n",
    "    print(\"No recent executions found.\")"
   ]
  },
  {
   "cell_type": "markdown",
   "metadata": {},
   "source": [
    "## 4. Market Data\n",
    "\n",
    "Now let's explore market data functionality."
   ]
  },
  {
   "cell_type": "code",
   "execution_count": 23,
   "metadata": {},
   "outputs": [
    {
     "data": {
      "text/html": [
       "<div>\n",
       "<style scoped>\n",
       "    .dataframe tbody tr th:only-of-type {\n",
       "        vertical-align: middle;\n",
       "    }\n",
       "\n",
       "    .dataframe tbody tr th {\n",
       "        vertical-align: top;\n",
       "    }\n",
       "\n",
       "    .dataframe thead th {\n",
       "        text-align: right;\n",
       "    }\n",
       "</style>\n",
       "<table border=\"1\" class=\"dataframe\">\n",
       "  <thead>\n",
       "    <tr style=\"text-align: right;\">\n",
       "      <th></th>\n",
       "      <th>symbol</th>\n",
       "      <th>symbolId</th>\n",
       "      <th>description</th>\n",
       "      <th>securityType</th>\n",
       "      <th>listingExchange</th>\n",
       "      <th>isTradable</th>\n",
       "      <th>isQuotable</th>\n",
       "      <th>currency</th>\n",
       "    </tr>\n",
       "  </thead>\n",
       "  <tbody>\n",
       "    <tr>\n",
       "      <th>0</th>\n",
       "      <td>AAPL</td>\n",
       "      <td>8049</td>\n",
       "      <td>APPLE INC</td>\n",
       "      <td>Stock</td>\n",
       "      <td>NASDAQ</td>\n",
       "      <td>True</td>\n",
       "      <td>True</td>\n",
       "      <td>USD</td>\n",
       "    </tr>\n",
       "    <tr>\n",
       "      <th>1</th>\n",
       "      <td>AAPL.TO</td>\n",
       "      <td>39472334</td>\n",
       "      <td>APPLE INC</td>\n",
       "      <td>Stock</td>\n",
       "      <td>TSX</td>\n",
       "      <td>True</td>\n",
       "      <td>True</td>\n",
       "      <td>CAD</td>\n",
       "    </tr>\n",
       "    <tr>\n",
       "      <th>2</th>\n",
       "      <td>AVSPY.IN</td>\n",
       "      <td>28301</td>\n",
       "      <td>AAPL Alpha Index</td>\n",
       "      <td>Index</td>\n",
       "      <td>NASDAQI</td>\n",
       "      <td>False</td>\n",
       "      <td>True</td>\n",
       "      <td>USD</td>\n",
       "    </tr>\n",
       "    <tr>\n",
       "      <th>3</th>\n",
       "      <td>AAPW</td>\n",
       "      <td>59883807</td>\n",
       "      <td>ROUNDHILL AAPL WEEKLYPAY ETF</td>\n",
       "      <td>Stock</td>\n",
       "      <td>BATS</td>\n",
       "      <td>True</td>\n",
       "      <td>True</td>\n",
       "      <td>USD</td>\n",
       "    </tr>\n",
       "    <tr>\n",
       "      <th>4</th>\n",
       "      <td>AAPL.TO</td>\n",
       "      <td>37727146</td>\n",
       "      <td>APPLE INC CDR (CAD HEDGED) DEPOSITARY RECEIPTS...</td>\n",
       "      <td>Stock</td>\n",
       "      <td>NEO</td>\n",
       "      <td>False</td>\n",
       "      <td>False</td>\n",
       "      <td>CAD</td>\n",
       "    </tr>\n",
       "    <tr>\n",
       "      <th>5</th>\n",
       "      <td>NY2LAAPL.IN</td>\n",
       "      <td>19786673</td>\n",
       "      <td>ICE Leveraged 2x AAPL Index</td>\n",
       "      <td>Index</td>\n",
       "      <td>NYSEGIF</td>\n",
       "      <td>False</td>\n",
       "      <td>True</td>\n",
       "      <td>USD</td>\n",
       "    </tr>\n",
       "    <tr>\n",
       "      <th>6</th>\n",
       "      <td>APLY</td>\n",
       "      <td>47195488</td>\n",
       "      <td>TIDAL TRUST II YIELDMAX AAPL OPTION INCOME STR...</td>\n",
       "      <td>Stock</td>\n",
       "      <td>ARCA</td>\n",
       "      <td>True</td>\n",
       "      <td>True</td>\n",
       "      <td>USD</td>\n",
       "    </tr>\n",
       "    <tr>\n",
       "      <th>7</th>\n",
       "      <td>AAPB</td>\n",
       "      <td>43621933</td>\n",
       "      <td>GRANITESHARES ETF TRUST 2X LONG AAPL DAILY ETF</td>\n",
       "      <td>Stock</td>\n",
       "      <td>NASDAQ</td>\n",
       "      <td>True</td>\n",
       "      <td>True</td>\n",
       "      <td>USD</td>\n",
       "    </tr>\n",
       "    <tr>\n",
       "      <th>8</th>\n",
       "      <td>AAPD</td>\n",
       "      <td>43621934</td>\n",
       "      <td>DIREXION SHARES ETF TRUST DAILY AAPL BEAR 1X SHS</td>\n",
       "      <td>Stock</td>\n",
       "      <td>NASDAQ</td>\n",
       "      <td>True</td>\n",
       "      <td>True</td>\n",
       "      <td>USD</td>\n",
       "    </tr>\n",
       "    <tr>\n",
       "      <th>9</th>\n",
       "      <td>AAPU</td>\n",
       "      <td>43621935</td>\n",
       "      <td>DIREXION SHARES ETF TRUST DAILY AAPL BULL 2X S...</td>\n",
       "      <td>Stock</td>\n",
       "      <td>NASDAQ</td>\n",
       "      <td>True</td>\n",
       "      <td>True</td>\n",
       "      <td>USD</td>\n",
       "    </tr>\n",
       "    <tr>\n",
       "      <th>10</th>\n",
       "      <td>AAPY</td>\n",
       "      <td>51092636</td>\n",
       "      <td>NEOS ETF TRUST KURV YIELD PREMIUM STRATEGY APP...</td>\n",
       "      <td>Stock</td>\n",
       "      <td>BATS</td>\n",
       "      <td>False</td>\n",
       "      <td>False</td>\n",
       "      <td>USD</td>\n",
       "    </tr>\n",
       "    <tr>\n",
       "      <th>11</th>\n",
       "      <td>J008303.90</td>\n",
       "      <td>943205</td>\n",
       "      <td>WTS JPMORGAN CHASE BANK N A WTS REG S ON SHS A...</td>\n",
       "      <td>Right</td>\n",
       "      <td></td>\n",
       "      <td>False</td>\n",
       "      <td>False</td>\n",
       "      <td>USD</td>\n",
       "    </tr>\n",
       "  </tbody>\n",
       "</table>\n",
       "</div>"
      ],
      "text/plain": [
       "         symbol  symbolId                                        description  \\\n",
       "0          AAPL      8049                                          APPLE INC   \n",
       "1       AAPL.TO  39472334                                          APPLE INC   \n",
       "2      AVSPY.IN     28301                                   AAPL Alpha Index   \n",
       "3          AAPW  59883807                       ROUNDHILL AAPL WEEKLYPAY ETF   \n",
       "4       AAPL.TO  37727146  APPLE INC CDR (CAD HEDGED) DEPOSITARY RECEIPTS...   \n",
       "5   NY2LAAPL.IN  19786673                        ICE Leveraged 2x AAPL Index   \n",
       "6          APLY  47195488  TIDAL TRUST II YIELDMAX AAPL OPTION INCOME STR...   \n",
       "7          AAPB  43621933     GRANITESHARES ETF TRUST 2X LONG AAPL DAILY ETF   \n",
       "8          AAPD  43621934   DIREXION SHARES ETF TRUST DAILY AAPL BEAR 1X SHS   \n",
       "9          AAPU  43621935  DIREXION SHARES ETF TRUST DAILY AAPL BULL 2X S...   \n",
       "10         AAPY  51092636  NEOS ETF TRUST KURV YIELD PREMIUM STRATEGY APP...   \n",
       "11   J008303.90    943205  WTS JPMORGAN CHASE BANK N A WTS REG S ON SHS A...   \n",
       "\n",
       "   securityType listingExchange  isTradable  isQuotable currency  \n",
       "0         Stock          NASDAQ        True        True      USD  \n",
       "1         Stock             TSX        True        True      CAD  \n",
       "2         Index         NASDAQI       False        True      USD  \n",
       "3         Stock            BATS        True        True      USD  \n",
       "4         Stock             NEO       False       False      CAD  \n",
       "5         Index         NYSEGIF       False        True      USD  \n",
       "6         Stock            ARCA        True        True      USD  \n",
       "7         Stock          NASDAQ        True        True      USD  \n",
       "8         Stock          NASDAQ        True        True      USD  \n",
       "9         Stock          NASDAQ        True        True      USD  \n",
       "10        Stock            BATS       False       False      USD  \n",
       "11        Right                       False       False      USD  "
      ]
     },
     "metadata": {},
     "output_type": "display_data"
    },
    {
     "name": "stdout",
     "output_type": "stream",
     "text": [
      "Using symbol: AAPL (ID: 8049)\n"
     ]
    }
   ],
   "source": [
    "# Search for symbols\n",
    "search_term = \"AAPL\"\n",
    "search_results = api.search_symbols(search_term)\n",
    "\n",
    "if search_results['symbols']:\n",
    "    symbols_df = pd.DataFrame(search_results['symbols'])\n",
    "    display(symbols_df)\n",
    "    \n",
    "    # Save the first symbol ID for later use\n",
    "    symbol_id = search_results['symbols'][0]['symbolId']\n",
    "    symbol_name = search_results['symbols'][0]['symbol']\n",
    "    print(f\"Using symbol: {symbol_name} (ID: {symbol_id})\")\n",
    "else:\n",
    "    print(f\"No symbols found for '{search_term}'\")"
   ]
  },
  {
   "cell_type": "code",
   "execution_count": 24,
   "metadata": {},
   "outputs": [
    {
     "name": "stdout",
     "output_type": "stream",
     "text": [
      "Quote for AAPL:\n",
      "  Bid: $217.40 (1 shares)\n",
      "  Ask: $217.46 (1 shares)\n",
      "  Last: $217.48\n",
      "  Volume: 93942629\n"
     ]
    }
   ],
   "source": [
    "# Get symbol quotes\n",
    "quotes = api.get_quotes([symbol_id])\n",
    "\n",
    "if quotes['quotes']:\n",
    "    quote = quotes['quotes'][0]\n",
    "    print(f\"Quote for {quote['symbol']}:\")\n",
    "    print(f\"  Bid: ${quote['bidPrice']:.2f} ({quote['bidSize']} shares)\")\n",
    "    print(f\"  Ask: ${quote['askPrice']:.2f} ({quote['askSize']} shares)\")\n",
    "    print(f\"  Last: ${quote['lastTradePrice']:.2f}\")\n",
    "    print(f\"  Volume: {quote['volume']}\")\n",
    "else:\n",
    "    print(\"No quotes found.\")"
   ]
  },
  {
   "cell_type": "code",
   "execution_count": 25,
   "metadata": {},
   "outputs": [
    {
     "name": "stderr",
     "output_type": "stream",
     "text": [
      "C:\\Users\\Administrator\\AppData\\Local\\Temp\\ipykernel_12472\\2468339644.py:21: FutureWarning: In a future version of pandas, parsing datetimes with mixed time zones will raise a warning unless `utc=True`. Please specify `utc=True` to opt in to the new behaviour and silence this warning. To create a `Series` with mixed offsets and `object` dtype, please use `apply` and `datetime.datetime.strptime`\n",
      "  candles_df['start'] = pd.to_datetime(candles_df['start'])\n"
     ]
    },
    {
     "data": {
      "image/png": "[encoded data removed]",
      "text/plain": [
       "<Figure size 1200x600 with 1 Axes>"
      ]
     },
     "metadata": {},
     "output_type": "display_data"
    },
    {
     "data": {
      "text/html": [
       "<div>\n",
       "<style scoped>\n",
       "    .dataframe tbody tr th:only-of-type {\n",
       "        vertical-align: middle;\n",
       "    }\n",
       "\n",
       "    .dataframe tbody tr th {\n",
       "        vertical-align: top;\n",
       "    }\n",
       "\n",
       "    .dataframe thead th {\n",
       "        text-align: right;\n",
       "    }\n",
       "</style>\n",
       "<table border=\"1\" class=\"dataframe\">\n",
       "  <thead>\n",
       "    <tr style=\"text-align: right;\">\n",
       "      <th></th>\n",
       "      <th>end</th>\n",
       "      <th>low</th>\n",
       "      <th>high</th>\n",
       "      <th>open</th>\n",
       "      <th>close</th>\n",
       "      <th>volume</th>\n",
       "      <th>VWAP</th>\n",
       "    </tr>\n",
       "    <tr>\n",
       "      <th>start</th>\n",
       "      <th></th>\n",
       "      <th></th>\n",
       "      <th></th>\n",
       "      <th></th>\n",
       "      <th></th>\n",
       "      <th></th>\n",
       "      <th></th>\n",
       "    </tr>\n",
       "  </thead>\n",
       "  <tbody>\n",
       "    <tr>\n",
       "      <th>2025-02-19 17:31:16-05:00</th>\n",
       "      <td>2025-02-20T00:00:00.000000-05:00</td>\n",
       "      <td>243.1604</td>\n",
       "      <td>246.01</td>\n",
       "      <td>244.660</td>\n",
       "      <td>244.87</td>\n",
       "      <td>32204215</td>\n",
       "      <td>244.698606</td>\n",
       "    </tr>\n",
       "    <tr>\n",
       "      <th>2025-02-20 00:00:00-05:00</th>\n",
       "      <td>2025-02-21T00:00:00.000000-05:00</td>\n",
       "      <td>244.2900</td>\n",
       "      <td>246.78</td>\n",
       "      <td>244.940</td>\n",
       "      <td>245.83</td>\n",
       "      <td>32316907</td>\n",
       "      <td>245.643959</td>\n",
       "    </tr>\n",
       "    <tr>\n",
       "      <th>2025-02-21 00:00:00-05:00</th>\n",
       "      <td>2025-02-22T00:00:00.000000-05:00</td>\n",
       "      <td>245.2200</td>\n",
       "      <td>248.69</td>\n",
       "      <td>245.950</td>\n",
       "      <td>245.55</td>\n",
       "      <td>53197431</td>\n",
       "      <td>246.387753</td>\n",
       "    </tr>\n",
       "    <tr>\n",
       "      <th>2025-02-24 00:00:00-05:00</th>\n",
       "      <td>2025-02-25T00:00:00.000000-05:00</td>\n",
       "      <td>244.4200</td>\n",
       "      <td>248.86</td>\n",
       "      <td>244.925</td>\n",
       "      <td>247.10</td>\n",
       "      <td>51326396</td>\n",
       "      <td>247.304074</td>\n",
       "    </tr>\n",
       "    <tr>\n",
       "      <th>2025-02-25 00:00:00-05:00</th>\n",
       "      <td>2025-02-26T00:00:00.000000-05:00</td>\n",
       "      <td>244.9100</td>\n",
       "      <td>250.00</td>\n",
       "      <td>248.000</td>\n",
       "      <td>247.04</td>\n",
       "      <td>48013272</td>\n",
       "      <td>247.547272</td>\n",
       "    </tr>\n",
       "  </tbody>\n",
       "</table>\n",
       "</div>"
      ],
      "text/plain": [
       "                                                        end       low    high  \\\n",
       "start                                                                           \n",
       "2025-02-19 17:31:16-05:00  2025-02-20T00:00:00.000000-05:00  243.1604  246.01   \n",
       "2025-02-20 00:00:00-05:00  2025-02-21T00:00:00.000000-05:00  244.2900  246.78   \n",
       "2025-02-21 00:00:00-05:00  2025-02-22T00:00:00.000000-05:00  245.2200  248.69   \n",
       "2025-02-24 00:00:00-05:00  2025-02-25T00:00:00.000000-05:00  244.4200  248.86   \n",
       "2025-02-25 00:00:00-05:00  2025-02-26T00:00:00.000000-05:00  244.9100  250.00   \n",
       "\n",
       "                              open   close    volume        VWAP  \n",
       "start                                                             \n",
       "2025-02-19 17:31:16-05:00  244.660  244.87  32204215  244.698606  \n",
       "2025-02-20 00:00:00-05:00  244.940  245.83  32316907  245.643959  \n",
       "2025-02-21 00:00:00-05:00  245.950  245.55  53197431  246.387753  \n",
       "2025-02-24 00:00:00-05:00  244.925  247.10  51326396  247.304074  \n",
       "2025-02-25 00:00:00-05:00  248.000  247.04  48013272  247.547272  "
      ]
     },
     "metadata": {},
     "output_type": "display_data"
    }
   ],
   "source": [
    "# Get historical data (candles)\n",
    "end_time = datetime.datetime.now()\n",
    "start_time = end_time - timedelta(days=30)\n",
    "\n",
    "# Format dates in ISO 8601 format with timezone\n",
    "start_time_str = start_time.strftime(\"%Y-%m-%dT%H:%M:%S.000-05:00\")\n",
    "end_time_str = end_time.strftime(\"%Y-%m-%dT%H:%M:%S.000-05:00\")\n",
    "\n",
    "candles = api.get_candles(\n",
    "    symbol_id=symbol_id,\n",
    "    start_time=start_time_str,\n",
    "    end_time=end_time_str,\n",
    "    interval=\"OneDay\"\n",
    ")\n",
    "\n",
    "if candles['candles']:\n",
    "    # Convert to DataFrame\n",
    "    candles_df = pd.DataFrame(candles['candles'])\n",
    "    \n",
    "    # Convert start to datetime\n",
    "    candles_df['start'] = pd.to_datetime(candles_df['start'])\n",
    "    \n",
    "    # Set start as index\n",
    "    candles_df.set_index('start', inplace=True)\n",
    "    \n",
    "    # Plot the data\n",
    "    plt.figure(figsize=(12, 6))\n",
    "    plt.plot(candles_df.index, candles_df['close'])\n",
    "    plt.title(f\"{symbol_name} - Last 30 Days\")\n",
    "    plt.xlabel('Date')\n",
    "    plt.ylabel('Price ($)')\n",
    "    plt.grid(True)\n",
    "    plt.show()\n",
    "    \n",
    "    # Display the data\n",
    "    display(candles_df.head())\n",
    "else:\n",
    "    print(\"No candles data found.\")"
   ]
  },
  {
   "cell_type": "markdown",
   "metadata": {},
   "source": [
    "## 5. Options Data\n",
    "\n",
    "Let's explore options data for a symbol."
   ]
  },
  {
   "cell_type": "code",
   "execution_count": 26,
   "metadata": {},
   "outputs": [
    {
     "name": "stdout",
     "output_type": "stream",
     "text": [
      "No option chain data found.\n"
     ]
    }
   ],
   "source": [
    "# Get option chain\n",
    "options = api.get_symbol_options(symbol_id)\n",
    "\n",
    "if options and 'options' in options:\n",
    "    # Get available expiry dates\n",
    "    expiry_dates = [option['expiryDate'] for option in options['options']]\n",
    "    print(f\"Available expiry dates for {symbol_name}:\")\n",
    "    for date in expiry_dates:\n",
    "        print(f\"  {date}\")\n",
    "    \n",
    "    # Select the first expiry date for demonstration\n",
    "    if expiry_dates:\n",
    "        selected_date = expiry_dates[0]\n",
    "        print(f\"\\nSelected expiry date: {selected_date}\")\n",
    "        \n",
    "        # Get options for this expiry date\n",
    "        selected_option = next((opt for opt in options['options'] if opt['expiryDate'] == selected_date), None)\n",
    "        \n",
    "        if selected_option and 'chainPerRoot' in selected_option:\n",
    "            chains = selected_option['chainPerRoot']\n",
    "            if chains:\n",
    "                # Extract calls and puts\n",
    "                calls = []\n",
    "                puts = []\n",
    "                \n",
    "                for root in chains:\n",
    "                    for strike in root['chainPerStrikePrice']:\n",
    "                        strike_price = strike['strikePrice']\n",
    "                        \n",
    "                        if 'callSymbolId' in strike:\n",
    "                            calls.append({\n",
    "                                'strikePrice': strike_price,\n",
    "                                'symbolId': strike['callSymbolId'],\n",
    "                                'type': 'CALL'\n",
    "                            })\n",
    "                            \n",
    "                        if 'putSymbolId' in strike:\n",
    "                            puts.append({\n",
    "                                'strikePrice': strike_price,\n",
    "                                'symbolId': strike['putSymbolId'],\n",
    "                                'type': 'PUT'\n",
    "                            })\n",
    "                \n",
    "                # Create DataFrames\n",
    "                calls_df = pd.DataFrame(calls)\n",
    "                puts_df = pd.DataFrame(puts)\n",
    "                \n",
    "                print(f\"\\nFound {len(calls_df)} calls and {len(puts_df)} puts\")\n",
    "                \n",
    "                # Display a few calls and puts\n",
    "                print(\"\\nSample Calls:\")\n",
    "                display(calls_df.head())\n",
    "                \n",
    "                print(\"\\nSample Puts:\")\n",
    "                display(puts_df.head())\n",
    "                \n",
    "                # Get quotes for a few options\n",
    "                if len(calls_df) > 0:\n",
    "                    call_id = calls_df.iloc[len(calls_df)//2]['symbolId']  # Middle strike call\n",
    "                    call_quotes = api.get_quotes([call_id])\n",
    "                    \n",
    "                    if call_quotes['quotes']:\n",
    "                        print(\"\\nSample Call Option Quote:\")\n",
    "                        quote = call_quotes['quotes'][0]\n",
    "                        print(f\"Symbol: {quote['symbol']}\")\n",
    "                        print(f\"Bid: ${quote['bidPrice']:.2f}, Ask: ${quote['askPrice']:.2f}\")\n",
    "                        print(f\"Last: ${quote['lastTradePrice']:.2f}, Volume: {quote['volume']}\")\n",
    "            else:\n",
    "                print(\"No option chain data found for the selected date.\")\n",
    "        else:\n",
    "            print(\"No option chain data found for the selected date.\")\n",
    "else:\n",
    "    print(\"No option chain data found.\")"
   ]
  },
  {
   "cell_type": "markdown",
   "metadata": {},
   "source": [
    "## 6. Order Management\n",
    "\n",
    "Let's explore order management functionality. Note: This section includes examples of creating orders but they are commented out to prevent accidental order placement."
   ]
  },
  {
   "cell_type": "code",
   "execution_count": 27,
   "metadata": {},
   "outputs": [
    {
     "name": "stdout",
     "output_type": "stream",
     "text": [
      "No open orders found.\n"
     ]
    }
   ],
   "source": [
    "# Get open orders\n",
    "orders = api.get_account_orders(account_id, state=\"Open\")\n",
    "\n",
    "if orders['orders']:\n",
    "    orders_df = pd.DataFrame(orders['orders'])\n",
    "    print(f\"Found {len(orders_df)} open orders\")\n",
    "    display(orders_df)\n",
    "else:\n",
    "    print(\"No open orders found.\")"
   ]
  },
  {
   "cell_type": "markdown",
   "metadata": {},
   "source": [
    "## 7. Error Handling Examples\n",
    "\n",
    "Let's demonstrate how to handle errors with the wrapper."
   ]
  },
  {
   "cell_type": "code",
   "execution_count": 28,
   "metadata": {},
   "outputs": [
    {
     "name": "stdout",
     "output_type": "stream",
     "text": [
      "General error: 1018 - Account number not found\n",
      "HTTP status: 404\n"
     ]
    }
   ],
   "source": [
    "from QuestradeAPI.CustomWrapper import (\n",
    "    QuestradeAPIError, \n",
    "    QuestradeGeneralError, \n",
    "    QuestradeOrderError,\n",
    "    QuestradeRateLimitError\n",
    ")\n",
    "\n",
    "# Example of handling a non-existent account\n",
    "try:\n",
    "    invalid_account = \"12345678\"  # This account ID doesn't exist\n",
    "    positions = api.get_account_positions(invalid_account)\n",
    "except QuestradeGeneralError as e:\n",
    "    print(f\"General error: {e.code} - {e.message}\")\n",
    "    print(f\"HTTP status: {e.status_code}\")\n",
    "except QuestradeAPIError as e:\n",
    "    print(f\"API error: {e.code} - {e.message}\")"
   ]
  },
  {
   "cell_type": "code",
   "execution_count": 29,
   "metadata": {},
   "outputs": [
    {
     "name": "stdout",
     "output_type": "stream",
     "text": [
      "Making multiple requests to trigger rate limiting...\n",
      "Request 50 successful\n",
      "Completed all requests without hitting rate limits.\n"
     ]
    }
   ],
   "source": [
    "# Example of handling rate limits\n",
    "try:\n",
    "    # Create a new API instance with no retries to demonstrate rate limiting\n",
    "    no_retry_api = QuestradeAPI(max_retries=0)\n",
    "    \n",
    "    # Make many requests in a loop to trigger rate limiting\n",
    "    print(\"Making multiple requests to trigger rate limiting...\")\n",
    "    for i in range(50):  # This might trigger rate limiting\n",
    "        result = no_retry_api.get_accounts()\n",
    "        print(f\"Request {i+1} successful\", end=\"\\r\")\n",
    "    \n",
    "    print(\"\\nCompleted all requests without hitting rate limits.\")\n",
    "except QuestradeRateLimitError as e:\n",
    "    print(f\"\\nRate limit error: {e.code} - {e.message}\")\n",
    "    print(f\"Retry after: {e.retry_after} seconds\")\n",
    "except Exception as e:\n",
    "    print(f\"\\nUnexpected error: {str(e)}\")"
   ]
  },
  {
   "cell_type": "markdown",
   "metadata": {},
   "source": [
    "## 8. Advanced Usage: Rate Limiting Configuration"
   ]
  },
  {
   "cell_type": "code",
   "execution_count": 30,
   "metadata": {},
   "outputs": [
    {
     "name": "stdout",
     "output_type": "stream",
     "text": [
      "API initialized with custom rate limiting settings\n",
      "Rate limiting enabled: True\n",
      "Maximum retries: 5\n"
     ]
    }
   ],
   "source": [
    "# Create API with custom rate limiting settings\n",
    "custom_api = QuestradeAPI(\n",
    "    enforce_rate_limit=True,  # Enable rate limiting\n",
    "    max_retries=5             # Set maximum retry attempts\n",
    ")\n",
    "\n",
    "print(\"API initialized with custom rate limiting settings\")\n",
    "print(f\"Rate limiting enabled: {custom_api.enforce_rate_limit}\")\n",
    "print(f\"Maximum retries: {custom_api.max_retries}\")"
   ]
  },
  {
   "cell_type": "markdown",
   "metadata": {},
   "source": [
    "## 9. Summary\n",
    "\n",
    "This notebook demonstrated the key features of the Questrade Custom API Wrapper:\n",
    "\n",
    "1. Authentication and setup\n",
    "2. Account information retrieval\n",
    "3. Market data access\n",
    "4. Options data\n",
    "5. Order management\n",
    "6. Error handling\n",
    "7. Rate limiting configuration\n",
    "\n",
    "For more information, refer to the documentation or explore the API methods directly."
   ]
  },
  {
   "cell_type": "markdown",
   "metadata": {},
   "source": []
  }
 ],
 "metadata": {
  "kernelspec": {
   "display_name": "base",
   "language": "python",
   "name": "python3"
  },
  "language_info": {
   "codemirror_mode": {
    "name": "ipython",
    "version": 3
   },
   "file_extension": ".py",
   "mimetype": "text/x-python",
   "name": "python",
   "nbconvert_exporter": "python",
   "pygments_lexer": "ipython3",
   "version": "3.11.5"
  }
 },
 "nbformat": 4,
 "nbformat_minor": 2
}
