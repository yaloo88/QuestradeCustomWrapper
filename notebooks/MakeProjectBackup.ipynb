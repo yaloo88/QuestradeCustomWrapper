{
 "cells": [
  {
   "cell_type": "code",
   "execution_count": 5,
   "metadata": {},
   "outputs": [
    {
     "name": "stdout",
     "output_type": "stream",
     "text": [
      "C:\\Users\\Administrator\\Documents\\QuestradeCustomAPIWrapper_20250321_153010\n"
     ]
    }
   ],
   "source": [
    "\n",
    "import sys\n",
    "from pathlib import Path\n",
    "# Add project root to path\n",
    "project_root = Path('..').resolve()\n",
    "sys.path.append(str(project_root))\n",
    "print(project_root)"
   ]
  },
  {
   "cell_type": "code",
   "execution_count": 6,
   "metadata": {},
   "outputs": [
    {
     "name": "stdout",
     "output_type": "stream",
     "text": [
      "Project root: C:\\Users\\Administrator\\Documents\\QuestradeCustomAPIWrapper_20250321_153010\n",
      "Starting backup to W:\\users\\backup\\PROJECTS_BACKUP_VAULT\\QuestradeCustomAPIWrapper_20250321_153010_20250321_163538...\n",
      "Backup completed successfully!\n",
      "Backup size: 0.19 MB\n"
     ]
    }
   ],
   "source": [
    "import sys\n",
    "import os\n",
    "import shutil\n",
    "import datetime\n",
    "from pathlib import Path\n",
    "\n",
    "# Add project root to path\n",
    "project_root = Path('..').resolve()\n",
    "sys.path.append(str(project_root))\n",
    "print(f\"Project root: {project_root}\")\n",
    "\n",
    "# Define backup destination (replace with your remote folder path)\n",
    "backup_dest = Path('W:/users/backup/PROJECTS_BACKUP_VAULT')  # Network backup location\n",
    "\n",
    "# Create a timestamped backup folder\n",
    "timestamp = datetime.datetime.now().strftime('%Y%m%d_%H%M%S')\n",
    "folder_name = project_root.name  # Get the folder name from project root\n",
    "backup_folder = backup_dest / f\"{folder_name}_{timestamp}\"\n",
    "\n",
    "# Create the backup directory if it doesn't exist\n",
    "os.makedirs(backup_folder, exist_ok=True)\n",
    "\n",
    "# Function to copy files/directories, excluding certain patterns\n",
    "def copy_with_exclusions(src, dst, exclude_patterns=None):\n",
    "    if exclude_patterns is None:\n",
    "        exclude_patterns = ['.git', '__pycache__', '.ipynb_checkpoints', 'venv', '.env']\n",
    "    \n",
    "    if os.path.isdir(src):\n",
    "        # Convert src to string before checking if patterns are in it\n",
    "        src_str = str(src)\n",
    "        if any(pattern in src_str for pattern in exclude_patterns):\n",
    "            return\n",
    "        \n",
    "        if not os.path.exists(dst):\n",
    "            os.makedirs(dst)\n",
    "            \n",
    "        for item in os.listdir(src):\n",
    "            s = os.path.join(src, item)\n",
    "            d = os.path.join(dst, item)\n",
    "            copy_with_exclusions(s, d, exclude_patterns)\n",
    "    else:\n",
    "        shutil.copy2(src, dst)\n",
    "\n",
    "# Perform the backup\n",
    "print(f\"Starting backup to {backup_folder}...\")\n",
    "copy_with_exclusions(project_root, backup_folder)\n",
    "print(f\"Backup completed successfully!\")\n",
    "\n",
    "# Optional: Calculate and display backup size\n",
    "backup_size = sum(f.stat().st_size for f in backup_folder.glob('**/*') if f.is_file())\n",
    "print(f\"Backup size: {backup_size / (1024*1024):.2f} MB\")"
   ]
  },
  {
   "cell_type": "code",
   "execution_count": null,
   "metadata": {},
   "outputs": [],
   "source": []
  }
 ],
 "metadata": {
  "kernelspec": {
   "display_name": "base",
   "language": "python",
   "name": "python3"
  },
  "language_info": {
   "codemirror_mode": {
    "name": "ipython",
    "version": 3
   },
   "file_extension": ".py",
   "mimetype": "text/x-python",
   "name": "python",
   "nbconvert_exporter": "python",
   "pygments_lexer": "ipython3",
   "version": "3.11.5"
  }
 },
 "nbformat": 4,
 "nbformat_minor": 2
}
